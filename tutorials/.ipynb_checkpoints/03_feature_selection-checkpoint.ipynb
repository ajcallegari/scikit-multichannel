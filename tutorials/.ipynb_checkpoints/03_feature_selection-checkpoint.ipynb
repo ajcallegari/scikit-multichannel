{
 "cells": [
  {
   "cell_type": "markdown",
   "metadata": {},
   "source": [
    "# tutorial 3: feature selection\n",
    "\n",
    "This tutorial shows you how to enforce feature diversity by using scikit-learn feature selection algorithms in a multichannel pipeline.  \n",
    "\n",
    "Feature selection can improve model performance when the ratio of samples to features is low.  This is even true for boosted trees and neural nets.  In ML tasks with multiple feature vector inputs, it is often the case that the error is uncorrelated in the different inputs.  This lack of correlation is a good thing for making accurate ensemble predictions.  As such, we may wish to preserve the best features from each input by applying a selection algorithm to each channel (as opposed to concatenating all the vectors together and hoping that there's good representation of each input after selection)."
   ]
  },
  {
   "cell_type": "markdown",
   "metadata": {},
   "source": [
    "## Select inputs from each channel\n",
    "\n",
    "In this eample, scikit-learn's **SelectPercentile** class is used to select the best 25% of features from each input channel.  These features are passed through to pipecater's **MultichannelPredictor** which was introducted in tutorial #1.  MultichannelPredictor concatenates the best feaures into a single vector and inputs it into, in this case, GradientBoostingClassifier."
   ]
  },
  {
   "cell_type": "code",
   "execution_count": 1,
   "metadata": {},
   "outputs": [
    {
     "data": {
      "text/html": [
       "<style type=\"text/css\">\n",
       "#T_87e2b_ th {\n",
       "  text-align: center;\n",
       "}\n",
       "#T_87e2b_row0_col0, #T_87e2b_row0_col1, #T_87e2b_row0_col2, #T_87e2b_row0_col3, #T_87e2b_row0_col4, #T_87e2b_row0_col5, #T_87e2b_row1_col0, #T_87e2b_row1_col1, #T_87e2b_row1_col2, #T_87e2b_row1_col3, #T_87e2b_row1_col4, #T_87e2b_row1_col5, #T_87e2b_row2_col0, #T_87e2b_row2_col1, #T_87e2b_row2_col2, #T_87e2b_row2_col3, #T_87e2b_row2_col4, #T_87e2b_row2_col5, #T_87e2b_row3_col0, #T_87e2b_row3_col1, #T_87e2b_row3_col2, #T_87e2b_row3_col3, #T_87e2b_row3_col4, #T_87e2b_row3_col5, #T_87e2b_row4_col0, #T_87e2b_row4_col1, #T_87e2b_row4_col2, #T_87e2b_row4_col3, #T_87e2b_row4_col4, #T_87e2b_row4_col5, #T_87e2b_row5_col0, #T_87e2b_row5_col1, #T_87e2b_row5_col2, #T_87e2b_row5_col3, #T_87e2b_row5_col4, #T_87e2b_row5_col5, #T_87e2b_row6_col0, #T_87e2b_row6_col1, #T_87e2b_row6_col2, #T_87e2b_row6_col3, #T_87e2b_row6_col4, #T_87e2b_row6_col5, #T_87e2b_row7_col0, #T_87e2b_row7_col1, #T_87e2b_row7_col2, #T_87e2b_row7_col3, #T_87e2b_row7_col4, #T_87e2b_row7_col5, #T_87e2b_row8_col0, #T_87e2b_row8_col1, #T_87e2b_row8_col2, #T_87e2b_row8_col3, #T_87e2b_row8_col4, #T_87e2b_row8_col5, #T_87e2b_row9_col0, #T_87e2b_row9_col1, #T_87e2b_row9_col2, #T_87e2b_row9_col3, #T_87e2b_row9_col4, #T_87e2b_row9_col5 {\n",
       "  text-align: center;\n",
       "}\n",
       "</style>\n",
       "<table id=\"T_87e2b_\">\n",
       "  <thead>\n",
       "    <tr>\n",
       "      <th class=\"blank level0\" >&nbsp;</th>\n",
       "      <th class=\"col_heading level0 col0\" >layer_0</th>\n",
       "      <th class=\"col_heading level0 col1\" >out_0</th>\n",
       "      <th class=\"col_heading level0 col2\" >layer_1</th>\n",
       "      <th class=\"col_heading level0 col3\" >out_1</th>\n",
       "      <th class=\"col_heading level0 col4\" >layer_2</th>\n",
       "      <th class=\"col_heading level0 col5\" >out_2</th>\n",
       "    </tr>\n",
       "    <tr>\n",
       "      <th class=\"index_name level0\" >channel</th>\n",
       "      <th class=\"blank col0\" >&nbsp;</th>\n",
       "      <th class=\"blank col1\" >&nbsp;</th>\n",
       "      <th class=\"blank col2\" >&nbsp;</th>\n",
       "      <th class=\"blank col3\" >&nbsp;</th>\n",
       "      <th class=\"blank col4\" >&nbsp;</th>\n",
       "      <th class=\"blank col5\" >&nbsp;</th>\n",
       "    </tr>\n",
       "  </thead>\n",
       "  <tbody>\n",
       "    <tr>\n",
       "      <th id=\"T_87e2b_level0_row0\" class=\"row_heading level0 row0\" >0</th>\n",
       "      <td id=\"T_87e2b_row0_col0\" class=\"data row0 col0\" >StandardScaler</td>\n",
       "      <td id=\"T_87e2b_row0_col1\" class=\"data row0 col1\" >→</td>\n",
       "      <td id=\"T_87e2b_row0_col2\" class=\"data row0 col2\" >SelectPercentile</td>\n",
       "      <td id=\"T_87e2b_row0_col3\" class=\"data row0 col3\" >→</td>\n",
       "      <td id=\"T_87e2b_row0_col4\" class=\"data row0 col4\" >GradientBoostingClassifier_MC</td>\n",
       "      <td id=\"T_87e2b_row0_col5\" class=\"data row0 col5\" >→</td>\n",
       "    </tr>\n",
       "    <tr>\n",
       "      <th id=\"T_87e2b_level0_row1\" class=\"row_heading level0 row1\" >1</th>\n",
       "      <td id=\"T_87e2b_row1_col0\" class=\"data row1 col0\" >StandardScaler</td>\n",
       "      <td id=\"T_87e2b_row1_col1\" class=\"data row1 col1\" >→</td>\n",
       "      <td id=\"T_87e2b_row1_col2\" class=\"data row1 col2\" >SelectPercentile</td>\n",
       "      <td id=\"T_87e2b_row1_col3\" class=\"data row1 col3\" >→</td>\n",
       "      <td id=\"T_87e2b_row1_col4\" class=\"data row1 col4\" >▽</td>\n",
       "      <td id=\"T_87e2b_row1_col5\" class=\"data row1 col5\" > </td>\n",
       "    </tr>\n",
       "    <tr>\n",
       "      <th id=\"T_87e2b_level0_row2\" class=\"row_heading level0 row2\" >2</th>\n",
       "      <td id=\"T_87e2b_row2_col0\" class=\"data row2 col0\" >StandardScaler</td>\n",
       "      <td id=\"T_87e2b_row2_col1\" class=\"data row2 col1\" >→</td>\n",
       "      <td id=\"T_87e2b_row2_col2\" class=\"data row2 col2\" >SelectPercentile</td>\n",
       "      <td id=\"T_87e2b_row2_col3\" class=\"data row2 col3\" >→</td>\n",
       "      <td id=\"T_87e2b_row2_col4\" class=\"data row2 col4\" >▽</td>\n",
       "      <td id=\"T_87e2b_row2_col5\" class=\"data row2 col5\" > </td>\n",
       "    </tr>\n",
       "    <tr>\n",
       "      <th id=\"T_87e2b_level0_row3\" class=\"row_heading level0 row3\" >3</th>\n",
       "      <td id=\"T_87e2b_row3_col0\" class=\"data row3 col0\" >StandardScaler</td>\n",
       "      <td id=\"T_87e2b_row3_col1\" class=\"data row3 col1\" >→</td>\n",
       "      <td id=\"T_87e2b_row3_col2\" class=\"data row3 col2\" >SelectPercentile</td>\n",
       "      <td id=\"T_87e2b_row3_col3\" class=\"data row3 col3\" >→</td>\n",
       "      <td id=\"T_87e2b_row3_col4\" class=\"data row3 col4\" >▽</td>\n",
       "      <td id=\"T_87e2b_row3_col5\" class=\"data row3 col5\" > </td>\n",
       "    </tr>\n",
       "    <tr>\n",
       "      <th id=\"T_87e2b_level0_row4\" class=\"row_heading level0 row4\" >4</th>\n",
       "      <td id=\"T_87e2b_row4_col0\" class=\"data row4 col0\" >StandardScaler</td>\n",
       "      <td id=\"T_87e2b_row4_col1\" class=\"data row4 col1\" >→</td>\n",
       "      <td id=\"T_87e2b_row4_col2\" class=\"data row4 col2\" >SelectPercentile</td>\n",
       "      <td id=\"T_87e2b_row4_col3\" class=\"data row4 col3\" >→</td>\n",
       "      <td id=\"T_87e2b_row4_col4\" class=\"data row4 col4\" >▽</td>\n",
       "      <td id=\"T_87e2b_row4_col5\" class=\"data row4 col5\" > </td>\n",
       "    </tr>\n",
       "    <tr>\n",
       "      <th id=\"T_87e2b_level0_row5\" class=\"row_heading level0 row5\" >5</th>\n",
       "      <td id=\"T_87e2b_row5_col0\" class=\"data row5 col0\" >StandardScaler</td>\n",
       "      <td id=\"T_87e2b_row5_col1\" class=\"data row5 col1\" >→</td>\n",
       "      <td id=\"T_87e2b_row5_col2\" class=\"data row5 col2\" >SelectPercentile</td>\n",
       "      <td id=\"T_87e2b_row5_col3\" class=\"data row5 col3\" >→</td>\n",
       "      <td id=\"T_87e2b_row5_col4\" class=\"data row5 col4\" >▽</td>\n",
       "      <td id=\"T_87e2b_row5_col5\" class=\"data row5 col5\" > </td>\n",
       "    </tr>\n",
       "    <tr>\n",
       "      <th id=\"T_87e2b_level0_row6\" class=\"row_heading level0 row6\" >6</th>\n",
       "      <td id=\"T_87e2b_row6_col0\" class=\"data row6 col0\" >StandardScaler</td>\n",
       "      <td id=\"T_87e2b_row6_col1\" class=\"data row6 col1\" >→</td>\n",
       "      <td id=\"T_87e2b_row6_col2\" class=\"data row6 col2\" >SelectPercentile</td>\n",
       "      <td id=\"T_87e2b_row6_col3\" class=\"data row6 col3\" >→</td>\n",
       "      <td id=\"T_87e2b_row6_col4\" class=\"data row6 col4\" >▽</td>\n",
       "      <td id=\"T_87e2b_row6_col5\" class=\"data row6 col5\" > </td>\n",
       "    </tr>\n",
       "    <tr>\n",
       "      <th id=\"T_87e2b_level0_row7\" class=\"row_heading level0 row7\" >7</th>\n",
       "      <td id=\"T_87e2b_row7_col0\" class=\"data row7 col0\" >StandardScaler</td>\n",
       "      <td id=\"T_87e2b_row7_col1\" class=\"data row7 col1\" >→</td>\n",
       "      <td id=\"T_87e2b_row7_col2\" class=\"data row7 col2\" >SelectPercentile</td>\n",
       "      <td id=\"T_87e2b_row7_col3\" class=\"data row7 col3\" >→</td>\n",
       "      <td id=\"T_87e2b_row7_col4\" class=\"data row7 col4\" >▽</td>\n",
       "      <td id=\"T_87e2b_row7_col5\" class=\"data row7 col5\" > </td>\n",
       "    </tr>\n",
       "    <tr>\n",
       "      <th id=\"T_87e2b_level0_row8\" class=\"row_heading level0 row8\" >8</th>\n",
       "      <td id=\"T_87e2b_row8_col0\" class=\"data row8 col0\" >StandardScaler</td>\n",
       "      <td id=\"T_87e2b_row8_col1\" class=\"data row8 col1\" >→</td>\n",
       "      <td id=\"T_87e2b_row8_col2\" class=\"data row8 col2\" >SelectPercentile</td>\n",
       "      <td id=\"T_87e2b_row8_col3\" class=\"data row8 col3\" >→</td>\n",
       "      <td id=\"T_87e2b_row8_col4\" class=\"data row8 col4\" >▽</td>\n",
       "      <td id=\"T_87e2b_row8_col5\" class=\"data row8 col5\" > </td>\n",
       "    </tr>\n",
       "    <tr>\n",
       "      <th id=\"T_87e2b_level0_row9\" class=\"row_heading level0 row9\" >9</th>\n",
       "      <td id=\"T_87e2b_row9_col0\" class=\"data row9 col0\" >StandardScaler</td>\n",
       "      <td id=\"T_87e2b_row9_col1\" class=\"data row9 col1\" >→</td>\n",
       "      <td id=\"T_87e2b_row9_col2\" class=\"data row9 col2\" >SelectPercentile</td>\n",
       "      <td id=\"T_87e2b_row9_col3\" class=\"data row9 col3\" >→</td>\n",
       "      <td id=\"T_87e2b_row9_col4\" class=\"data row9 col4\" >▽</td>\n",
       "      <td id=\"T_87e2b_row9_col5\" class=\"data row9 col5\" > </td>\n",
       "    </tr>\n",
       "  </tbody>\n",
       "</table>\n"
      ],
      "text/plain": [
       "MultichannelPipeline(n_channels=10)"
      ]
     },
     "execution_count": 1,
     "metadata": {},
     "output_type": "execute_result"
    }
   ],
   "source": [
    "import numpy as np\n",
    "from sklearn.preprocessing import StandardScaler\n",
    "from sklearn.feature_selection import SelectPercentile, f_classif\n",
    "from sklearn.ensemble import GradientBoostingClassifier\n",
    "import skmultichannel as sm\n",
    "\n",
    "Xs, y, X_types = sm.make_multi_input_classification(\n",
    "    n_informative_Xs=3, n_random_Xs=0, n_weak_Xs=7)\n",
    "\n",
    "early_stopping_GBC = GradientBoostingClassifier(n_estimators=1000, \n",
    "                                     validation_fraction=0.1, \n",
    "                                     n_iter_no_change=3)\n",
    "\n",
    "clf = sm.MultichannelPipeline(n_channels=10)\n",
    "clf.add_layer(StandardScaler())\n",
    "clf.add_layer(SelectPercentile(percentile=25))\n",
    "clf.add_layer(sm.MultichannelPredictor(early_stopping_GBC))\n",
    "clf.fit(Xs, y)"
   ]
  },
  {
   "cell_type": "code",
   "execution_count": 2,
   "metadata": {},
   "outputs": [
    {
     "data": {
      "text/plain": [
       "0.8578431372549019"
      ]
     },
     "execution_count": 2,
     "metadata": {},
     "output_type": "execute_result"
    }
   ],
   "source": [
    "np.mean(sm.cross_val_score(clf, Xs, y, cv=3))"
   ]
  },
  {
   "cell_type": "code",
   "execution_count": null,
   "metadata": {},
   "outputs": [],
   "source": []
  }
 ],
 "metadata": {
  "kernelspec": {
   "display_name": "data_science",
   "language": "python",
   "name": "data_science"
  },
  "language_info": {
   "codemirror_mode": {
    "name": "ipython",
    "version": 3
   },
   "file_extension": ".py",
   "mimetype": "text/x-python",
   "name": "python",
   "nbconvert_exporter": "python",
   "pygments_lexer": "ipython3",
   "version": "3.8.10"
  },
  "toc": {
   "base_numbering": 1,
   "nav_menu": {},
   "number_sections": true,
   "sideBar": true,
   "skip_h1_title": false,
   "title_cell": "Table of Contents",
   "title_sidebar": "Contents",
   "toc_cell": false,
   "toc_position": {},
   "toc_section_display": true,
   "toc_window_display": true
  }
 },
 "nbformat": 4,
 "nbformat_minor": 4
}
