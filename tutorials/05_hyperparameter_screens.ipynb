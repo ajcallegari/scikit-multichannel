{
 "cells": [
  {
   "cell_type": "markdown",
   "metadata": {},
   "source": [
    "# tutorial 5: in-pipeline hyperparameter screens\n",
    "\n",
    "This tutorial show you how to use the **GridSearchEnsemble** class to \n",
    "\n",
    "* screen ML model hyperparameters during model fitting\n",
    "* make ensemble predictions using the results of a hyperparameter screen"
   ]
  },
  {
   "cell_type": "markdown",
   "metadata": {},
   "source": [
    "## Stacked generalization with parameter selection\n",
    "\n",
    "In this example, internal cv is used to estimate the quality of a set of hyperameters as well as to generate features for meta-prediction with a support vector machine.  The top two parameter sets are chosen to create the final model."
   ]
  },
  {
   "cell_type": "code",
   "execution_count": 1,
   "metadata": {},
   "outputs": [
    {
     "name": "stderr",
     "output_type": "stream",
     "text": [
      "File descriptor limit 256 is too low for production servers and may result in connection errors. At least 8192 is recommended. --- Fix with 'ulimit -n 8192'\n",
      "2021-03-24 11:13:20,595\tINFO services.py:1173 -- View the Ray dashboard at \u001b[1m\u001b[32mhttp://127.0.0.1:8272\u001b[39m\u001b[22m\n"
     ]
    },
    {
     "data": {
      "text/html": [
       "<div>\n",
       "<style scoped>\n",
       "    .dataframe tbody tr th:only-of-type {\n",
       "        vertical-align: middle;\n",
       "    }\n",
       "\n",
       "    .dataframe tbody tr th {\n",
       "        vertical-align: top;\n",
       "    }\n",
       "\n",
       "    .dataframe thead th {\n",
       "        text-align: right;\n",
       "    }\n",
       "</style>\n",
       "<table border=\"1\" class=\"dataframe\">\n",
       "  <thead>\n",
       "    <tr style=\"text-align: right;\">\n",
       "      <th></th>\n",
       "      <th>selections</th>\n",
       "      <th>performance</th>\n",
       "    </tr>\n",
       "    <tr>\n",
       "      <th>parameters</th>\n",
       "      <th></th>\n",
       "      <th></th>\n",
       "    </tr>\n",
       "  </thead>\n",
       "  <tbody>\n",
       "    <tr>\n",
       "      <th>{'learning_rate': 10, 'n_estimators': 10}</th>\n",
       "      <td>+++</td>\n",
       "      <td>0.827931</td>\n",
       "    </tr>\n",
       "    <tr>\n",
       "      <th>{'learning_rate': 10, 'n_estimators': 2}</th>\n",
       "      <td>+++</td>\n",
       "      <td>0.824930</td>\n",
       "    </tr>\n",
       "    <tr>\n",
       "      <th>{'learning_rate': 0.1, 'n_estimators': 10}</th>\n",
       "      <td>-</td>\n",
       "      <td>0.820928</td>\n",
       "    </tr>\n",
       "    <tr>\n",
       "      <th>{'learning_rate': 0.1, 'n_estimators': 2}</th>\n",
       "      <td>-</td>\n",
       "      <td>0.817927</td>\n",
       "    </tr>\n",
       "  </tbody>\n",
       "</table>\n",
       "</div>"
      ],
      "text/plain": [
       "                                           selections  performance\n",
       "parameters                                                        \n",
       "{'learning_rate': 10, 'n_estimators': 10}         +++     0.827931\n",
       "{'learning_rate': 10, 'n_estimators': 2}          +++     0.824930\n",
       "{'learning_rate': 0.1, 'n_estimators': 10}          -     0.820928\n",
       "{'learning_rate': 0.1, 'n_estimators': 2}           -     0.817927"
      ]
     },
     "execution_count": 1,
     "metadata": {},
     "output_type": "execute_result"
    }
   ],
   "source": [
    "from sklearn.datasets import make_classification\n",
    "from sklearn.ensemble import GradientBoostingClassifier\n",
    "from sklearn.svm import SVC\n",
    "from sklearn.model_selection import cross_val_score\n",
    "from sklearn.metrics import roc_auc_score\n",
    "import pipecaster as pc\n",
    "\n",
    "screen_specs = {\n",
    "     'learning_rate':[0.1, 10],\n",
    "     'n_estimators':[2, 10],\n",
    "}\n",
    "\n",
    "X, y = make_classification()\n",
    "clf = pc.GridSearchEnsemble(\n",
    "                 param_dict=screen_specs,\n",
    "                 base_predictor_cls=GradientBoostingClassifier,\n",
    "                 meta_predictor=SVC(),\n",
    "                 internal_cv=5, \n",
    "                 base_score_methods='predict_proba',\n",
    "                 scorer=roc_auc_score,\n",
    "                 score_selector=pc.RankScoreSelector(k=2),\n",
    "                 base_processes='max')\n",
    "clf.fit(X, y)\n",
    "clf.get_screen_results()"
   ]
  },
  {
   "cell_type": "code",
   "execution_count": 2,
   "metadata": {},
   "outputs": [
    {
     "data": {
      "text/plain": [
       "array([0.91176471, 0.96875   , 0.81985294])"
      ]
     },
     "execution_count": 2,
     "metadata": {},
     "output_type": "execute_result"
    }
   ],
   "source": [
    "cross_val_score(clf, X, y, scoring='balanced_accuracy', cv=3)"
   ]
  },
  {
   "cell_type": "markdown",
   "metadata": {},
   "source": [
    "## Parameter selection (without ensemble prediction)\n",
    "\n",
    "In this example, the meta-predictor is dropped and the best parameter set is used to make the final model."
   ]
  },
  {
   "cell_type": "code",
   "execution_count": 1,
   "metadata": {},
   "outputs": [
    {
     "name": "stderr",
     "output_type": "stream",
     "text": [
      "File descriptor limit 256 is too low for production servers and may result in connection errors. At least 8192 is recommended. --- Fix with 'ulimit -n 8192'\n",
      "2021-03-24 11:22:13,308\tINFO services.py:1173 -- View the Ray dashboard at \u001b[1m\u001b[32mhttp://127.0.0.1:8272\u001b[39m\u001b[22m\n"
     ]
    },
    {
     "data": {
      "text/html": [
       "<div>\n",
       "<style scoped>\n",
       "    .dataframe tbody tr th:only-of-type {\n",
       "        vertical-align: middle;\n",
       "    }\n",
       "\n",
       "    .dataframe tbody tr th {\n",
       "        vertical-align: top;\n",
       "    }\n",
       "\n",
       "    .dataframe thead th {\n",
       "        text-align: right;\n",
       "    }\n",
       "</style>\n",
       "<table border=\"1\" class=\"dataframe\">\n",
       "  <thead>\n",
       "    <tr style=\"text-align: right;\">\n",
       "      <th></th>\n",
       "      <th>selections</th>\n",
       "      <th>performance</th>\n",
       "    </tr>\n",
       "    <tr>\n",
       "      <th>parameters</th>\n",
       "      <th></th>\n",
       "      <th></th>\n",
       "    </tr>\n",
       "  </thead>\n",
       "  <tbody>\n",
       "    <tr>\n",
       "      <th>{'learning_rate': 0.1, 'n_estimators': 10}</th>\n",
       "      <td>+++</td>\n",
       "      <td>0.899560</td>\n",
       "    </tr>\n",
       "    <tr>\n",
       "      <th>{'learning_rate': 0.1, 'n_estimators': 2}</th>\n",
       "      <td>-</td>\n",
       "      <td>0.889756</td>\n",
       "    </tr>\n",
       "    <tr>\n",
       "      <th>{'learning_rate': 10, 'n_estimators': 2}</th>\n",
       "      <td>-</td>\n",
       "      <td>0.879952</td>\n",
       "    </tr>\n",
       "    <tr>\n",
       "      <th>{'learning_rate': 10, 'n_estimators': 10}</th>\n",
       "      <td>-</td>\n",
       "      <td>0.879552</td>\n",
       "    </tr>\n",
       "  </tbody>\n",
       "</table>\n",
       "</div>"
      ],
      "text/plain": [
       "                                           selections  performance\n",
       "parameters                                                        \n",
       "{'learning_rate': 0.1, 'n_estimators': 10}        +++     0.899560\n",
       "{'learning_rate': 0.1, 'n_estimators': 2}           -     0.889756\n",
       "{'learning_rate': 10, 'n_estimators': 2}            -     0.879952\n",
       "{'learning_rate': 10, 'n_estimators': 10}           -     0.879552"
      ]
     },
     "execution_count": 1,
     "metadata": {},
     "output_type": "execute_result"
    }
   ],
   "source": [
    "from sklearn.datasets import make_classification\n",
    "from sklearn.ensemble import GradientBoostingClassifier\n",
    "from sklearn.svm import SVC\n",
    "from sklearn.model_selection import cross_val_score\n",
    "from sklearn.metrics import balanced_accuracy_score\n",
    "import pipecaster as pc\n",
    "\n",
    "screen_specs = {\n",
    "     'learning_rate':[0.1, 10],\n",
    "     'n_estimators':[2, 10],\n",
    "}\n",
    "\n",
    "X, y = make_classification()\n",
    "clf = pc.GridSearchEnsemble(\n",
    "                 param_dict=screen_specs,\n",
    "                 base_predictor_cls=GradientBoostingClassifier,\n",
    "                 internal_cv=5,                  \n",
    "                 base_score_methods='predict',\n",
    "                 scorer=balanced_accuracy_score,\n",
    "                 score_selector=pc.RankScoreSelector(k=1),\n",
    "                 base_processes='max')\n",
    "clf.fit(X, y)\n",
    "clf.get_screen_results()"
   ]
  },
  {
   "cell_type": "code",
   "execution_count": 2,
   "metadata": {},
   "outputs": [
    {
     "data": {
      "text/plain": [
       "array([0.85294118, 0.9375    , 0.78492647])"
      ]
     },
     "execution_count": 2,
     "metadata": {},
     "output_type": "execute_result"
    }
   ],
   "source": [
    "cross_val_score(clf, X, y, scoring='balanced_accuracy', cv=3)"
   ]
  },
  {
   "cell_type": "markdown",
   "metadata": {},
   "source": [
    "### Ensemble of ensembles\n",
    "\n",
    "In this example, a small hyperparamater screen is conducted on each channel using the **Ensemble** class, which uses the best parameter sets to generate features for a support vector machine meta-classifier.  **ChannelEnsemble** assess the accuracy of each of these **Ensemble** object and selects the best performers for input into another support vecor machine meta-classifier."
   ]
  },
  {
   "cell_type": "code",
   "execution_count": 9,
   "metadata": {},
   "outputs": [
    {
     "data": {
      "text/html": [
       "<style  type=\"text/css\" >\n",
       "    #T_a017fd4c_8ccf_11eb_b864_a8206653ba57 th {\n",
       "          text-align: center;\n",
       "    }    #T_a017fd4c_8ccf_11eb_b864_a8206653ba57row0_col0 {\n",
       "            text-align:  center;\n",
       "        }    #T_a017fd4c_8ccf_11eb_b864_a8206653ba57row1_col0 {\n",
       "            text-align:  center;\n",
       "        }    #T_a017fd4c_8ccf_11eb_b864_a8206653ba57row2_col0 {\n",
       "            text-align:  center;\n",
       "        }    #T_a017fd4c_8ccf_11eb_b864_a8206653ba57row3_col0 {\n",
       "            text-align:  center;\n",
       "        }    #T_a017fd4c_8ccf_11eb_b864_a8206653ba57row4_col0 {\n",
       "            text-align:  center;\n",
       "        }    #T_a017fd4c_8ccf_11eb_b864_a8206653ba57row5_col0 {\n",
       "            text-align:  center;\n",
       "        }    #T_a017fd4c_8ccf_11eb_b864_a8206653ba57row6_col0 {\n",
       "            text-align:  center;\n",
       "        }    #T_a017fd4c_8ccf_11eb_b864_a8206653ba57row7_col0 {\n",
       "            text-align:  center;\n",
       "        }    #T_a017fd4c_8ccf_11eb_b864_a8206653ba57row8_col0 {\n",
       "            text-align:  center;\n",
       "        }    #T_a017fd4c_8ccf_11eb_b864_a8206653ba57row9_col0 {\n",
       "            text-align:  center;\n",
       "        }</style><table id=\"T_a017fd4c_8ccf_11eb_b864_a8206653ba57\" ><thead>    <tr>        <th class=\"blank level0\" ></th>        <th class=\"col_heading level0 col0\" >layer_0</th>    </tr>    <tr>        <th class=\"index_name level0\" >channel</th>        <th class=\"blank\" ></th>    </tr></thead><tbody>\n",
       "                <tr>\n",
       "                        <th id=\"T_a017fd4c_8ccf_11eb_b864_a8206653ba57level0_row0\" class=\"row_heading level0 row0\" >0</th>\n",
       "                        <td id=\"T_a017fd4c_8ccf_11eb_b864_a8206653ba57row0_col0\" class=\"data row0 col0\" >ChannelEnsemble</td>\n",
       "            </tr>\n",
       "            <tr>\n",
       "                        <th id=\"T_a017fd4c_8ccf_11eb_b864_a8206653ba57level0_row1\" class=\"row_heading level0 row1\" >1</th>\n",
       "                        <td id=\"T_a017fd4c_8ccf_11eb_b864_a8206653ba57row1_col0\" class=\"data row1 col0\" >▽</td>\n",
       "            </tr>\n",
       "            <tr>\n",
       "                        <th id=\"T_a017fd4c_8ccf_11eb_b864_a8206653ba57level0_row2\" class=\"row_heading level0 row2\" >2</th>\n",
       "                        <td id=\"T_a017fd4c_8ccf_11eb_b864_a8206653ba57row2_col0\" class=\"data row2 col0\" >▽</td>\n",
       "            </tr>\n",
       "            <tr>\n",
       "                        <th id=\"T_a017fd4c_8ccf_11eb_b864_a8206653ba57level0_row3\" class=\"row_heading level0 row3\" >3</th>\n",
       "                        <td id=\"T_a017fd4c_8ccf_11eb_b864_a8206653ba57row3_col0\" class=\"data row3 col0\" >▽</td>\n",
       "            </tr>\n",
       "            <tr>\n",
       "                        <th id=\"T_a017fd4c_8ccf_11eb_b864_a8206653ba57level0_row4\" class=\"row_heading level0 row4\" >4</th>\n",
       "                        <td id=\"T_a017fd4c_8ccf_11eb_b864_a8206653ba57row4_col0\" class=\"data row4 col0\" >▽</td>\n",
       "            </tr>\n",
       "            <tr>\n",
       "                        <th id=\"T_a017fd4c_8ccf_11eb_b864_a8206653ba57level0_row5\" class=\"row_heading level0 row5\" >5</th>\n",
       "                        <td id=\"T_a017fd4c_8ccf_11eb_b864_a8206653ba57row5_col0\" class=\"data row5 col0\" >▽</td>\n",
       "            </tr>\n",
       "            <tr>\n",
       "                        <th id=\"T_a017fd4c_8ccf_11eb_b864_a8206653ba57level0_row6\" class=\"row_heading level0 row6\" >6</th>\n",
       "                        <td id=\"T_a017fd4c_8ccf_11eb_b864_a8206653ba57row6_col0\" class=\"data row6 col0\" >▽</td>\n",
       "            </tr>\n",
       "            <tr>\n",
       "                        <th id=\"T_a017fd4c_8ccf_11eb_b864_a8206653ba57level0_row7\" class=\"row_heading level0 row7\" >7</th>\n",
       "                        <td id=\"T_a017fd4c_8ccf_11eb_b864_a8206653ba57row7_col0\" class=\"data row7 col0\" >▽</td>\n",
       "            </tr>\n",
       "            <tr>\n",
       "                        <th id=\"T_a017fd4c_8ccf_11eb_b864_a8206653ba57level0_row8\" class=\"row_heading level0 row8\" >8</th>\n",
       "                        <td id=\"T_a017fd4c_8ccf_11eb_b864_a8206653ba57row8_col0\" class=\"data row8 col0\" >▽</td>\n",
       "            </tr>\n",
       "            <tr>\n",
       "                        <th id=\"T_a017fd4c_8ccf_11eb_b864_a8206653ba57level0_row9\" class=\"row_heading level0 row9\" >9</th>\n",
       "                        <td id=\"T_a017fd4c_8ccf_11eb_b864_a8206653ba57row9_col0\" class=\"data row9 col0\" >▽</td>\n",
       "            </tr>\n",
       "    </tbody></table>"
      ],
      "text/plain": [
       "MultichannelPipeline(n_channels=10)"
      ]
     },
     "execution_count": 9,
     "metadata": {},
     "output_type": "execute_result"
    }
   ],
   "source": [
    "from sklearn.datasets import make_classification\n",
    "from sklearn.preprocessing import StandardScaler\n",
    "from sklearn.neural_network import MLPClassifier\n",
    "from sklearn.linear_model import LogisticRegression\n",
    "from sklearn.neighbors import KNeighborsClassifier\n",
    "from sklearn.ensemble import GradientBoostingClassifier\n",
    "from sklearn.ensemble import RandomForestClassifier\n",
    "from sklearn.naive_bayes import GaussianNB\n",
    "from sklearn.svm import SVC\n",
    "from sklearn.pipeline import Pipeline\n",
    "import pipecaster as pc\n",
    "\n",
    "Xs, y, X_types = pc.make_multi_input_classification(n_informative_Xs=3,\n",
    "                                                    n_random_Xs=7, class_sep=1)\n",
    "\n",
    "screen_specs = {\n",
    "     'learning_rate':[.1, 1],\n",
    "     'n_estimators':[5, 10]\n",
    "}\n",
    "\n",
    "channel_screen = pc.GridSearchEnsemble(\n",
    "                     screen_specs, GradientBoostingClassifier, SVC(),\n",
    "                     internal_cv=3, scorer='auto',\n",
    "                     score_selector=pc.RankScoreSelector(k=2))\n",
    "\n",
    "clf = pc.MultichannelPipeline(n_channels=10)\n",
    "clf.add_layer(pc.ChannelEnsemble(base_predictors=channel_screen,\n",
    "                                 meta_predictor=SVC(),\n",
    "                                 internal_cv=3,\n",
    "                                 score_selector=pc.RankScoreSelector(k=3)),\n",
    "              pipe_processes='max')"
   ]
  },
  {
   "cell_type": "code",
   "execution_count": 10,
   "metadata": {},
   "outputs": [
    {
     "data": {
      "text/plain": [
       "[0.8235294117647058, 0.9411764705882353, 0.7536764705882353]"
      ]
     },
     "execution_count": 10,
     "metadata": {},
     "output_type": "execute_result"
    }
   ],
   "source": [
    "pc.cross_val_score(clf, Xs, y)"
   ]
  }
 ],
 "metadata": {
  "kernelspec": {
   "display_name": "trading_venv_clark",
   "language": "python",
   "name": "trading_venv_clark"
  },
  "language_info": {
   "codemirror_mode": {
    "name": "ipython",
    "version": 3
   },
   "file_extension": ".py",
   "mimetype": "text/x-python",
   "name": "python",
   "nbconvert_exporter": "python",
   "pygments_lexer": "ipython3",
   "version": "3.7.5"
  },
  "toc": {
   "base_numbering": 1,
   "nav_menu": {},
   "number_sections": true,
   "sideBar": true,
   "skip_h1_title": false,
   "title_cell": "Table of Contents",
   "title_sidebar": "Contents",
   "toc_cell": false,
   "toc_position": {
    "height": "calc(100% - 180px)",
    "left": "10px",
    "top": "150px",
    "width": "280px"
   },
   "toc_section_display": true,
   "toc_window_display": true
  }
 },
 "nbformat": 4,
 "nbformat_minor": 2
}
